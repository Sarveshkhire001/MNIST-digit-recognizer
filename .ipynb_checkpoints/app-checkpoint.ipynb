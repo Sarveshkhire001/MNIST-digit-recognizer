{
 "cells": [
  {
   "cell_type": "code",
   "execution_count": null,
   "metadata": {},
   "outputs": [],
   "source": [
    "import flask\n",
    "import pickle\n",
    "from flask import Flask, request, jsonify, render_template\n",
    "import pandas as pd\n",
    "from numpy import asmatrix,asarray\n",
    "import PIL\n",
    "from PIL import Image\n",
    "import numpy as np"
   ]
  },
  {
   "cell_type": "code",
   "execution_count": null,
   "metadata": {},
   "outputs": [],
   "source": [
    "app = Flask(__name__, template_folder='templates')\n",
    "def init():\n",
    "    global model\n",
    "    with open(f'model/model.pkl','rb') as f:\n",
    "        model = pickle.load(f)"
   ]
  },
  {
   "cell_type": "code",
   "execution_count": null,
   "metadata": {},
   "outputs": [],
   "source": [
    "@app.route('/')\n",
    "def upload_file():\n",
    "    return render_template('main.html')\n",
    "\n",
    "@app.route('/uploader', methods = ['POST'])\n",
    "def upload_image_file():\n",
    "    if request.method == 'POST':\n",
    "        image = Image.open(request.files['file'].stream).convert(\"L\")\n",
    "        image = asarray(image)\n",
    "        gr_im= Image.fromarray(image)\n",
    "        load_img = np.matrix(gr_im.resize((28,28)))\n",
    "        img = Image.fromarray(load_img)\n",
    "        load_image = asmatrix(img)\n",
    "        load_image = load_image.flatten()\n",
    "        prediction = model.predict(load_image)\n",
    "        pred = 'Predicted Number: ' + str(prediction[0])\n",
    "        return render_template('main.html', prediction_no ='Predicted number: {}'.format(prediction))\n",
    "    \n",
    "if __name__ == '__main__':\n",
    "    init()\n",
    "    app.run()"
   ]
  },
  {
   "cell_type": "code",
   "execution_count": null,
   "metadata": {},
   "outputs": [],
   "source": []
  }
 ],
 "metadata": {
  "kernelspec": {
   "display_name": "Python 3",
   "language": "python",
   "name": "python3"
  },
  "language_info": {
   "codemirror_mode": {
    "name": "ipython",
    "version": 3
   },
   "file_extension": ".py",
   "mimetype": "text/x-python",
   "name": "python",
   "nbconvert_exporter": "python",
   "pygments_lexer": "ipython3",
   "version": "3.7.6"
  }
 },
 "nbformat": 4,
 "nbformat_minor": 4
}
